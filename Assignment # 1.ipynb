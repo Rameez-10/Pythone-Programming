{
 "cells": [
  {
   "cell_type": "code",
   "execution_count": 1,
   "metadata": {},
   "outputs": [
    {
     "name": "stdout",
     "output_type": "stream",
     "text": [
      "3.7.4\n"
     ]
    }
   ],
   "source": [
    "import platform\n",
    "print(platform.python_version())"
   ]
  },
  {
   "cell_type": "code",
   "execution_count": 2,
   "metadata": {},
   "outputs": [
    {
     "name": "stdout",
     "output_type": "stream",
     "text": [
      "Twinkle, Twinkle, little star,\n",
      "      How I wonder what you are!\n",
      "            Up above the world so high,\n",
      "            Like a diamond in the sky.\n",
      "Twinkle, Twinkle, little star,\n",
      "      How I wonder what you are\n"
     ]
    }
   ],
   "source": [
    "\n",
    "print (\"Twinkle, Twinkle, little star,\")\n",
    "print (\"      How I wonder what you are!\")\n",
    "print (\"            Up above the world so high,\")\n",
    "print (\"            Like a diamond in the sky.\")\n",
    "print (\"Twinkle, Twinkle, little star,\")\n",
    "print (\"      How I wonder what you are\")"
   ]
  },
  {
   "cell_type": "code",
   "execution_count": 3,
   "metadata": {},
   "outputs": [
    {
     "name": "stdout",
     "output_type": "stream",
     "text": [
      "Current Date & Time is :\n",
      "05-11-19  01:27:51\n"
     ]
    }
   ],
   "source": [
    "import datetime \n",
    "\n",
    "now = datetime.datetime.now()\n",
    "print (\"Current Date & Time is :\")\n",
    "print (now.strftime(\"%d-%m-%y  %H:%M:%S\"))"
   ]
  },
  {
   "cell_type": "code",
   "execution_count": 5,
   "metadata": {},
   "outputs": [
    {
     "name": "stdout",
     "output_type": "stream",
     "text": [
      "Please enter your first name :Rameez\n",
      "Please enter your last name :Ahmed\n",
      "Hello Ahmed Rameez\n"
     ]
    }
   ],
   "source": [
    "\n",
    "first_name = input (\"Please enter your first name :\")\n",
    "last_name = input (\"Please enter your last name :\")\n",
    "\n",
    "print (\"Hello\" + \" \" + last_name + \" \" + first_name)"
   ]
  },
  {
   "cell_type": "markdown",
   "metadata": {},
   "source": []
  },
  {
   "cell_type": "code",
   "execution_count": 6,
   "metadata": {},
   "outputs": [
    {
     "name": "stdout",
     "output_type": "stream",
     "text": [
      "Plaese enter the radius of the circle:150\n",
      "Area of the circle is : 70685.83470577035\n"
     ]
    }
   ],
   "source": [
    "import math \n",
    "radius = float(input(\"Plaese enter the radius of the circle:\"))\n",
    "area = math.pi * radius * radius\n",
    "print (\"Area of the circle is : {0}\".format(area))"
   ]
  },
  {
   "cell_type": "code",
   "execution_count": 7,
   "metadata": {},
   "outputs": [
    {
     "name": "stdout",
     "output_type": "stream",
     "text": [
      "Enter 1st value :150\n",
      "Enter 2nd value :230\n",
      "380\n"
     ]
    }
   ],
   "source": [
    "a = int(input(\"Enter 1st value :\"))\n",
    "b = int(input(\"Enter 2nd value :\"))\n",
    "c = a+b\n",
    "print(c)"
   ]
  },
  {
   "cell_type": "code",
   "execution_count": null,
   "metadata": {},
   "outputs": [],
   "source": []
  }
 ],
 "metadata": {
  "kernelspec": {
   "display_name": "Python 3",
   "language": "python",
   "name": "python3"
  },
  "language_info": {
   "codemirror_mode": {
    "name": "ipython",
    "version": 3
   },
   "file_extension": ".py",
   "mimetype": "text/x-python",
   "name": "python",
   "nbconvert_exporter": "python",
   "pygments_lexer": "ipython3",
   "version": "3.7.4"
  }
 },
 "nbformat": 4,
 "nbformat_minor": 2
}
